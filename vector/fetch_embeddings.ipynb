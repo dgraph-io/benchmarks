{
  "cells": [
    {
      "cell_type": "markdown",
      "metadata": {
        "id": "ZtVJnO3SzTgt"
      },
      "source": [
        "\n",
        "Notebook to explore data similarity in DGraph cluster\n",
        "\n",
        "\n",
        "**pre-requesite**\n",
        "- Dgraph\n",
        "  - Get a [Dgraph Cloud account](https://cloud.dgraph.io/)\n",
        "  - Have your account user name and password available\n",
        "  - Have a Dgraph cluster running in your Dgraph Cloud account\n",
        "  - Obtain the GraphQL Endpoint of the Dgraph cluster from the [cloud dashboard](https://cloud.dgraph.io/_/dashboard)\n",
        "  - Obtain an Admin API key for the Dgraph Cluster from the [settings](https://cloud.dgraph.io/_/settings?tab=api-keys) tab.\n",
        "\n",
        "\n",
        "\n",
        "  The first step is to import the packages needed.\n",
        "\n",
        "-  ``pydgraph``, the official [python client library for Dgraph Query Language](https://dgraph.io/docs/dql/clients/python/)\n",
        "-  ``GraphqlClient``, a GraphQL client to invoke the GraphQL API generated from your schema and the GraphQL admin API of Dgraph.\n",
        "\n",
        "**Make sure to update the endpoints with the correct values for your Dgraph cluster!**\n"
      ]
    },
    {
      "cell_type": "code",
      "execution_count": 1,
      "metadata": {
        "id": "_qEDD3UC7uqF"
      },
      "outputs": [
        {
          "name": "stdout",
          "output_type": "stream",
          "text": [
            "Requirement already satisfied: pydgraph in /Users/raphaelderbier/.pyenv/versions/3.11.5/lib/python3.11/site-packages (23.0.2)\n",
            "Requirement already satisfied: python-graphql-client in /Users/raphaelderbier/.pyenv/versions/3.11.5/lib/python3.11/site-packages (0.4.3)\n",
            "Requirement already satisfied: ipycytoscape in /Users/raphaelderbier/.pyenv/versions/3.11.5/lib/python3.11/site-packages (1.3.3)\n",
            "Requirement already satisfied: grpcio==1.54.0 in /Users/raphaelderbier/.pyenv/versions/3.11.5/lib/python3.11/site-packages (from pydgraph) (1.54.0)\n",
            "Requirement already satisfied: protobuf==4.22.3 in /Users/raphaelderbier/.pyenv/versions/3.11.5/lib/python3.11/site-packages (from pydgraph) (4.22.3)\n",
            "Requirement already satisfied: aiohttp~=3.0 in /Users/raphaelderbier/.pyenv/versions/3.11.5/lib/python3.11/site-packages (from python-graphql-client) (3.9.1)\n",
            "Requirement already satisfied: requests~=2.0 in /Users/raphaelderbier/.pyenv/versions/3.11.5/lib/python3.11/site-packages (from python-graphql-client) (2.31.0)\n",
            "Requirement already satisfied: websockets>=5.0 in /Users/raphaelderbier/.pyenv/versions/3.11.5/lib/python3.11/site-packages (from python-graphql-client) (12.0)\n",
            "Requirement already satisfied: ipywidgets>=7.6.0 in /Users/raphaelderbier/.pyenv/versions/3.11.5/lib/python3.11/site-packages (from ipycytoscape) (8.1.2)\n",
            "Requirement already satisfied: spectate>=1.0.0 in /Users/raphaelderbier/.pyenv/versions/3.11.5/lib/python3.11/site-packages (from ipycytoscape) (1.0.1)\n",
            "Requirement already satisfied: attrs>=17.3.0 in /Users/raphaelderbier/.pyenv/versions/3.11.5/lib/python3.11/site-packages (from aiohttp~=3.0->python-graphql-client) (23.2.0)\n",
            "Requirement already satisfied: multidict<7.0,>=4.5 in /Users/raphaelderbier/.pyenv/versions/3.11.5/lib/python3.11/site-packages (from aiohttp~=3.0->python-graphql-client) (6.0.4)\n",
            "Requirement already satisfied: yarl<2.0,>=1.0 in /Users/raphaelderbier/.pyenv/versions/3.11.5/lib/python3.11/site-packages (from aiohttp~=3.0->python-graphql-client) (1.9.4)\n",
            "Requirement already satisfied: frozenlist>=1.1.1 in /Users/raphaelderbier/.pyenv/versions/3.11.5/lib/python3.11/site-packages (from aiohttp~=3.0->python-graphql-client) (1.4.1)\n",
            "Requirement already satisfied: aiosignal>=1.1.2 in /Users/raphaelderbier/.pyenv/versions/3.11.5/lib/python3.11/site-packages (from aiohttp~=3.0->python-graphql-client) (1.3.1)\n",
            "Requirement already satisfied: comm>=0.1.3 in /Users/raphaelderbier/.pyenv/versions/3.11.5/lib/python3.11/site-packages (from ipywidgets>=7.6.0->ipycytoscape) (0.2.1)\n",
            "Requirement already satisfied: ipython>=6.1.0 in /Users/raphaelderbier/.pyenv/versions/3.11.5/lib/python3.11/site-packages (from ipywidgets>=7.6.0->ipycytoscape) (8.19.0)\n",
            "Requirement already satisfied: traitlets>=4.3.1 in /Users/raphaelderbier/.pyenv/versions/3.11.5/lib/python3.11/site-packages (from ipywidgets>=7.6.0->ipycytoscape) (5.14.1)\n",
            "Requirement already satisfied: widgetsnbextension~=4.0.10 in /Users/raphaelderbier/.pyenv/versions/3.11.5/lib/python3.11/site-packages (from ipywidgets>=7.6.0->ipycytoscape) (4.0.10)\n",
            "Requirement already satisfied: jupyterlab-widgets~=3.0.10 in /Users/raphaelderbier/.pyenv/versions/3.11.5/lib/python3.11/site-packages (from ipywidgets>=7.6.0->ipycytoscape) (3.0.10)\n",
            "Requirement already satisfied: charset-normalizer<4,>=2 in /Users/raphaelderbier/.pyenv/versions/3.11.5/lib/python3.11/site-packages (from requests~=2.0->python-graphql-client) (3.3.2)\n",
            "Requirement already satisfied: idna<4,>=2.5 in /Users/raphaelderbier/.pyenv/versions/3.11.5/lib/python3.11/site-packages (from requests~=2.0->python-graphql-client) (3.6)\n",
            "Requirement already satisfied: urllib3<3,>=1.21.1 in /Users/raphaelderbier/.pyenv/versions/3.11.5/lib/python3.11/site-packages (from requests~=2.0->python-graphql-client) (1.26.18)\n",
            "Requirement already satisfied: certifi>=2017.4.17 in /Users/raphaelderbier/.pyenv/versions/3.11.5/lib/python3.11/site-packages (from requests~=2.0->python-graphql-client) (2023.11.17)\n",
            "Requirement already satisfied: decorator in /Users/raphaelderbier/.pyenv/versions/3.11.5/lib/python3.11/site-packages (from ipython>=6.1.0->ipywidgets>=7.6.0->ipycytoscape) (5.1.1)\n",
            "Requirement already satisfied: jedi>=0.16 in /Users/raphaelderbier/.pyenv/versions/3.11.5/lib/python3.11/site-packages (from ipython>=6.1.0->ipywidgets>=7.6.0->ipycytoscape) (0.19.1)\n",
            "Requirement already satisfied: matplotlib-inline in /Users/raphaelderbier/.pyenv/versions/3.11.5/lib/python3.11/site-packages (from ipython>=6.1.0->ipywidgets>=7.6.0->ipycytoscape) (0.1.6)\n",
            "Requirement already satisfied: prompt-toolkit<3.1.0,>=3.0.41 in /Users/raphaelderbier/.pyenv/versions/3.11.5/lib/python3.11/site-packages (from ipython>=6.1.0->ipywidgets>=7.6.0->ipycytoscape) (3.0.43)\n",
            "Requirement already satisfied: pygments>=2.4.0 in /Users/raphaelderbier/.pyenv/versions/3.11.5/lib/python3.11/site-packages (from ipython>=6.1.0->ipywidgets>=7.6.0->ipycytoscape) (2.17.2)\n",
            "Requirement already satisfied: stack-data in /Users/raphaelderbier/.pyenv/versions/3.11.5/lib/python3.11/site-packages (from ipython>=6.1.0->ipywidgets>=7.6.0->ipycytoscape) (0.6.3)\n",
            "Requirement already satisfied: pexpect>4.3 in /Users/raphaelderbier/.pyenv/versions/3.11.5/lib/python3.11/site-packages (from ipython>=6.1.0->ipywidgets>=7.6.0->ipycytoscape) (4.9.0)\n",
            "Requirement already satisfied: parso<0.9.0,>=0.8.3 in /Users/raphaelderbier/.pyenv/versions/3.11.5/lib/python3.11/site-packages (from jedi>=0.16->ipython>=6.1.0->ipywidgets>=7.6.0->ipycytoscape) (0.8.3)\n",
            "Requirement already satisfied: ptyprocess>=0.5 in /Users/raphaelderbier/.pyenv/versions/3.11.5/lib/python3.11/site-packages (from pexpect>4.3->ipython>=6.1.0->ipywidgets>=7.6.0->ipycytoscape) (0.7.0)\n",
            "Requirement already satisfied: wcwidth in /Users/raphaelderbier/.pyenv/versions/3.11.5/lib/python3.11/site-packages (from prompt-toolkit<3.1.0,>=3.0.41->ipython>=6.1.0->ipywidgets>=7.6.0->ipycytoscape) (0.2.12)\n",
            "Requirement already satisfied: executing>=1.2.0 in /Users/raphaelderbier/.pyenv/versions/3.11.5/lib/python3.11/site-packages (from stack-data->ipython>=6.1.0->ipywidgets>=7.6.0->ipycytoscape) (2.0.1)\n",
            "Requirement already satisfied: asttokens>=2.1.0 in /Users/raphaelderbier/.pyenv/versions/3.11.5/lib/python3.11/site-packages (from stack-data->ipython>=6.1.0->ipywidgets>=7.6.0->ipycytoscape) (2.4.1)\n",
            "Requirement already satisfied: pure-eval in /Users/raphaelderbier/.pyenv/versions/3.11.5/lib/python3.11/site-packages (from stack-data->ipython>=6.1.0->ipywidgets>=7.6.0->ipycytoscape) (0.2.2)\n",
            "Requirement already satisfied: six>=1.12.0 in /Users/raphaelderbier/.pyenv/versions/3.11.5/lib/python3.11/site-packages (from asttokens>=2.1.0->stack-data->ipython>=6.1.0->ipywidgets>=7.6.0->ipycytoscape) (1.16.0)\n",
            "\n",
            "\u001b[1m[\u001b[0m\u001b[34;49mnotice\u001b[0m\u001b[1;39;49m]\u001b[0m\u001b[39;49m A new release of pip is available: \u001b[0m\u001b[31;49m23.3.2\u001b[0m\u001b[39;49m -> \u001b[0m\u001b[32;49m24.2\u001b[0m\n",
            "\u001b[1m[\u001b[0m\u001b[34;49mnotice\u001b[0m\u001b[1;39;49m]\u001b[0m\u001b[39;49m To update, run: \u001b[0m\u001b[32;49mpip install --upgrade pip\u001b[0m\n"
          ]
        }
      ],
      "source": [
        "!pip install pydgraph python-graphql-client ipycytoscape\n",
        "import sys\n",
        "import pydgraph\n",
        "import json\n",
        "import base64\n",
        "import getpass\n",
        "import pandas as pd \n",
        "from python_graphql_client import GraphqlClient\n",
        "\n"
      ]
    },
    {
      "cell_type": "code",
      "execution_count": 2,
      "metadata": {},
      "outputs": [],
      "source": [
        "\n",
        "# copy your Dgraph cloud endpoints\n",
        "# The GraphQL endpoint is found at https://cloud.dgraph.io/_/dashboard\n",
        "# dgraph_graphql_endpoint = \"https://xyz.us-east-1.aws.cloud.dgraph.io/graphql\"\n",
        "dgraph_graphql_endpoint = \"http://localhost:8080/graphql\"\n",
        "\n",
        "\n",
        "# The gRPC endpoint is found at https://cloud.dgraph.io/_/settings\n",
        "# dgraph_grpc = \"xyz.grpc.us-east-1.aws.cloud.dgraph.io:443\"\n",
        "dgraph_grpc = \"localhost:9080\"\n",
        "\n",
        "# graph admin endpoint is /admin\n",
        "dgraph_graphql_admin = dgraph_graphql_endpoint.replace(\"/graphql\", \"/admin\")\n",
        "# graph health endpoint is /health\n",
        "dgraph_graphql_health = dgraph_graphql_endpoint.replace(\"/graphql\", \"/health\")\n",
        "\n"
      ]
    },
    {
      "cell_type": "markdown",
      "metadata": {
        "id": "_qnQFABQNBXO"
      },
      "source": [
        "Enter your credentials and test the clients\n"
      ]
    },
    {
      "cell_type": "code",
      "execution_count": 6,
      "metadata": {
        "id": "E7EvVHCqXzfV"
      },
      "outputs": [
        {
          "name": "stdout",
          "output_type": "stream",
          "text": [
            "Check cluster health: [\n",
            "  {\n",
            "    \"instance\": \"alpha\",\n",
            "    \"address\": \"localhost:7080\",\n",
            "    \"status\": \"healthy\",\n",
            "    \"group\": \"1\",\n",
            "    \"version\": \"v24.0.2\",\n",
            "    \"uptime\": 9,\n",
            "    \"lastEcho\": 1726080109,\n",
            "    \"ongoing\": [\n",
            "      \"opRollup\"\n",
            "    ],\n",
            "    \"ee_features\": [\n",
            "      \"backup_restore\",\n",
            "      \"cdc\"\n",
            "    ],\n",
            "    \"max_assigned\": 30001\n",
            "  }\n",
            "]\n",
            "get DQL schema - succeeded\n"
          ]
        }
      ],
      "source": [
        "\n",
        "# Cloud credentials\n",
        "# we need the cloud login credential to upload the Lambda code.\n",
        "# we need the an Admin API key generated at https://cloud.dgraph.io/_/settings?tab=api-keys for DQL alter and query\n",
        "\n",
        "\n",
        "API_KEY = getpass.getpass(\"DGRAPH API KEY?\")\n",
        "\n",
        "# DQL Client\n",
        "if dgraph_grpc.find(\"cloud\") > 0:\n",
        "   client_stub = pydgraph.DgraphClientStub.from_cloud(dgraph_grpc,API_KEY )\n",
        "else:\n",
        "   client_stub = pydgraph.DgraphClientStub(addr=dgraph_grpc) \n",
        "\n",
        "client = pydgraph.DgraphClient(client_stub)\n",
        "\n",
        "# GraphQL client and admin client\n",
        "gql_client = GraphqlClient(endpoint=dgraph_graphql_endpoint)\n",
        "headers = { \"Dg-Auth\": API_KEY }\n",
        "gql_admin_client = GraphqlClient(endpoint=dgraph_graphql_admin, headers=headers)\n",
        "gql_health_client = GraphqlClient(endpoint=dgraph_graphql_health)\n",
        "\n",
        "\n",
        "#\n",
        "#  Testing the connection to the Dgraph cluster\n",
        "#\n",
        "data = gql_health_client.execute(query=\"\")\n",
        "if 'errors' in data:\n",
        "   raise Exception(data['errors'][0]['message'])\n",
        "\n",
        "print(\"Check cluster health:\", json.dumps(data, indent=2))\n",
        "\n",
        "#\n",
        "#  Testing the DQL connection\n",
        "#\n",
        "txn = client.txn(read_only=True)\n",
        "query = \"schema{}\"\n",
        "res = txn.query(query)\n",
        "dqlschema = json.loads(res.json)\n",
        "txn.discard()\n",
        "print(\"get DQL schema - succeeded\")\n"
      ]
    },
    {
      "cell_type": "code",
      "execution_count": 7,
      "metadata": {
        "id": "XeaFJyVJ8LlE"
      },
      "outputs": [],
      "source": [
        "# function to get embeddings from existing Dgraph cluster\n",
        "# update the query to match your schema, entity and embedding predicate\n",
        "\n",
        "\n",
        "def fetchEmbeddings(entity, emdedding_predicate, name_predicate):\n",
        "  # for example fetchEmbeddings(\"Product\",\"Product.embedding\",\"Product.title\")\n",
        "  # returns a dataframe with uid, name, and embedding\n",
        "  txn = client.txn(read_only=True)\n",
        "  after = \"\"\n",
        "  data = pd.DataFrame(columns=['uid', 'name', 'embedding'])\n",
        "  while True:\n",
        "    print(\"fetching products after\", after)\n",
        "    query = \"\"\"\n",
        "    query queryItems() {{\n",
        "        items(func:type({1}) {0},first:500)  @filter(has({2})) {{\n",
        "          uid\n",
        "          name: {3}\n",
        "          embedding:{2}\n",
        "        }}\n",
        "    }}\n",
        "    \"\"\".format(after,entity,emdedding_predicate,name_predicate)\n",
        "\n",
        "    variables = {}\n",
        "\n",
        "    res = txn.query(query, variables=variables)\n",
        "    jdata = json.loads(res.json)\n",
        "    print(len(jdata['items']))\n",
        "    if jdata['items'] == None or len(jdata['items']) == 0:\n",
        "      break\n",
        "    data = pd.concat([ data, pd.json_normalize(jdata['items']) ],ignore_index=True)\n",
        "    after = \"\"\",after: {}\"\"\".format(jdata['items'][-1]['uid'])\n",
        "    print(after)\n",
        "  return data\n",
        "\n",
        "\n",
        "def dataframe_to_rdf(data, filehandle = sys.stdout):\n",
        "    for _, row in data.iterrows():\n",
        "        rdf= \"\"\n",
        "        rdf += \"<_:{}> <Product.embedding> \\\"{}\\\" .\\n\".format(row['uid'],row['embedding'])\n",
        "        rdf += \"<_:{}> <Product.name> \\\"{}\\\" .\\n\".format(row['uid'],row['name'])\n",
        "        rdf += \"<_:{}> <dgraph.type> \\\"Product\\\" .\\n\".format(row['uid'])\n",
        "        filehandle.write(rdf)\n",
        "    return"
      ]
    },
    {
      "cell_type": "code",
      "execution_count": 13,
      "metadata": {},
      "outputs": [
        {
          "ename": "TypeError",
          "evalue": "memoryview: a bytes-like object is required, not 'str'",
          "output_type": "error",
          "traceback": [
            "\u001b[0;31m---------------------------------------------------------------------------\u001b[0m",
            "\u001b[0;31mTypeError\u001b[0m                                 Traceback (most recent call last)",
            "Cell \u001b[0;32mIn[13], line 6\u001b[0m\n\u001b[1;32m      2\u001b[0m \u001b[38;5;66;03m#data = fetchEmbeddings(\"Product\",\"Product.embedding\",\"Product.title\")\u001b[39;00m\n\u001b[1;32m      3\u001b[0m \u001b[38;5;66;03m#data.to_csv(\"products_with_embedding.csv.gz\",index=False,compression='gzip',header=True)\u001b[39;00m\n\u001b[1;32m      4\u001b[0m \u001b[38;5;66;03m# gzip file must use wb for write binary\u001b[39;00m\n\u001b[1;32m      5\u001b[0m \u001b[38;5;28;01mwith\u001b[39;00m gzip\u001b[38;5;241m.\u001b[39mopen(\u001b[38;5;124m\"\u001b[39m\u001b[38;5;124m./products.rdf.gz\u001b[39m\u001b[38;5;124m\"\u001b[39m,\u001b[38;5;124m\"\u001b[39m\u001b[38;5;124mwb\u001b[39m\u001b[38;5;124m\"\u001b[39m) \u001b[38;5;28;01mas\u001b[39;00m f:\n\u001b[0;32m----> 6\u001b[0m     \u001b[43mdataframe_to_rdf\u001b[49m\u001b[43m(\u001b[49m\u001b[43mdata\u001b[49m\u001b[43m,\u001b[49m\u001b[43m \u001b[49m\u001b[43mf\u001b[49m\u001b[43m)\u001b[49m\n",
            "Cell \u001b[0;32mIn[7], line 42\u001b[0m, in \u001b[0;36mdataframe_to_rdf\u001b[0;34m(data, filehandle)\u001b[0m\n\u001b[1;32m     40\u001b[0m     rdf \u001b[38;5;241m+\u001b[39m\u001b[38;5;241m=\u001b[39m \u001b[38;5;124m\"\u001b[39m\u001b[38;5;124m<_:\u001b[39m\u001b[38;5;132;01m{}\u001b[39;00m\u001b[38;5;124m> <Product.name> \u001b[39m\u001b[38;5;130;01m\\\"\u001b[39;00m\u001b[38;5;132;01m{}\u001b[39;00m\u001b[38;5;130;01m\\\"\u001b[39;00m\u001b[38;5;124m .\u001b[39m\u001b[38;5;130;01m\\n\u001b[39;00m\u001b[38;5;124m\"\u001b[39m\u001b[38;5;241m.\u001b[39mformat(row[\u001b[38;5;124m'\u001b[39m\u001b[38;5;124muid\u001b[39m\u001b[38;5;124m'\u001b[39m],row[\u001b[38;5;124m'\u001b[39m\u001b[38;5;124mname\u001b[39m\u001b[38;5;124m'\u001b[39m])\n\u001b[1;32m     41\u001b[0m     rdf \u001b[38;5;241m+\u001b[39m\u001b[38;5;241m=\u001b[39m \u001b[38;5;124m\"\u001b[39m\u001b[38;5;124m<_:\u001b[39m\u001b[38;5;132;01m{}\u001b[39;00m\u001b[38;5;124m> <dgraph.type> \u001b[39m\u001b[38;5;130;01m\\\"\u001b[39;00m\u001b[38;5;124mProduct\u001b[39m\u001b[38;5;130;01m\\\"\u001b[39;00m\u001b[38;5;124m .\u001b[39m\u001b[38;5;130;01m\\n\u001b[39;00m\u001b[38;5;124m\"\u001b[39m\u001b[38;5;241m.\u001b[39mformat(row[\u001b[38;5;124m'\u001b[39m\u001b[38;5;124muid\u001b[39m\u001b[38;5;124m'\u001b[39m])\n\u001b[0;32m---> 42\u001b[0m     \u001b[43mfilehandle\u001b[49m\u001b[38;5;241;43m.\u001b[39;49m\u001b[43mwrite\u001b[49m\u001b[43m(\u001b[49m\u001b[43mrdf\u001b[49m\u001b[43m)\u001b[49m\n\u001b[1;32m     43\u001b[0m \u001b[38;5;28;01mreturn\u001b[39;00m\n",
            "File \u001b[0;32m~/.pyenv/versions/3.11.5/lib/python3.11/gzip.py:285\u001b[0m, in \u001b[0;36mGzipFile.write\u001b[0;34m(self, data)\u001b[0m\n\u001b[1;32m    282\u001b[0m     length \u001b[38;5;241m=\u001b[39m \u001b[38;5;28mlen\u001b[39m(data)\n\u001b[1;32m    283\u001b[0m \u001b[38;5;28;01melse\u001b[39;00m:\n\u001b[1;32m    284\u001b[0m     \u001b[38;5;66;03m# accept any data that supports the buffer protocol\u001b[39;00m\n\u001b[0;32m--> 285\u001b[0m     data \u001b[38;5;241m=\u001b[39m \u001b[38;5;28;43mmemoryview\u001b[39;49m\u001b[43m(\u001b[49m\u001b[43mdata\u001b[49m\u001b[43m)\u001b[49m\n\u001b[1;32m    286\u001b[0m     length \u001b[38;5;241m=\u001b[39m data\u001b[38;5;241m.\u001b[39mnbytes\n\u001b[1;32m    288\u001b[0m \u001b[38;5;28;01mif\u001b[39;00m length \u001b[38;5;241m>\u001b[39m \u001b[38;5;241m0\u001b[39m:\n",
            "\u001b[0;31mTypeError\u001b[0m: memoryview: a bytes-like object is required, not 'str'"
          ]
        }
      ],
      "source": [
        "import gzip\n",
        "#data = fetchEmbeddings(\"Product\",\"Product.embedding\",\"Product.title\")\n",
        "#data.to_csv(\"products_with_embedding.csv.gz\",index=False,compression='gzip',header=True)\n",
        "# gzip file must use wt for write text\n",
        "with gzip.open(\"./products.rdf.gz\",\"wt\") as f:\n",
        "    dataframe_to_rdf(data, f)"
      ]
    }
  ],
  "metadata": {
    "colab": {
      "provenance": []
    },
    "kernelspec": {
      "display_name": "Python 3",
      "name": "python3"
    },
    "language_info": {
      "codemirror_mode": {
        "name": "ipython",
        "version": 3
      },
      "file_extension": ".py",
      "mimetype": "text/x-python",
      "name": "python",
      "nbconvert_exporter": "python",
      "pygments_lexer": "ipython3",
      "version": "3.11.5"
    }
  },
  "nbformat": 4,
  "nbformat_minor": 0
}
